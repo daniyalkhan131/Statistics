{
  "nbformat": 4,
  "nbformat_minor": 0,
  "metadata": {
    "colab": {
      "provenance": []
    },
    "kernelspec": {
      "name": "python3",
      "display_name": "Python 3"
    },
    "language_info": {
      "name": "python"
    }
  },
  "cells": [
    {
      "cell_type": "code",
      "execution_count": 73,
      "metadata": {
        "id": "E1O0pAkpWfVM"
      },
      "outputs": [],
      "source": [
        "import pandas as pd\n",
        "import random"
      ]
    },
    {
      "cell_type": "code",
      "source": [
        "L = []\n",
        "for i in range(10000):\n",
        "  a = random.randint(1,6)\n",
        "\n",
        "  L.append(a)"
      ],
      "metadata": {
        "id": "gudmFhs5XAFi"
      },
      "execution_count": 74,
      "outputs": []
    },
    {
      "cell_type": "code",
      "source": [
        "len(L)"
      ],
      "metadata": {
        "colab": {
          "base_uri": "https://localhost:8080/"
        },
        "id": "WisYc06xXEO5",
        "outputId": "416c67d6-4e5a-4699-aeee-48adfe2dc330"
      },
      "execution_count": 75,
      "outputs": [
        {
          "output_type": "execute_result",
          "data": {
            "text/plain": [
              "10000"
            ]
          },
          "metadata": {},
          "execution_count": 75
        }
      ]
    },
    {
      "cell_type": "code",
      "source": [
        "L[:5]"
      ],
      "metadata": {
        "colab": {
          "base_uri": "https://localhost:8080/"
        },
        "id": "x8vfBOZOXF_O",
        "outputId": "22355d15-a108-49ed-b28d-6380efc7e126"
      },
      "execution_count": 76,
      "outputs": [
        {
          "output_type": "execute_result",
          "data": {
            "text/plain": [
              "[6, 6, 6, 6, 2]"
            ]
          },
          "metadata": {},
          "execution_count": 76
        }
      ]
    },
    {
      "cell_type": "code",
      "source": [
        "s = pd.Series(L)\n",
        "s"
      ],
      "metadata": {
        "colab": {
          "base_uri": "https://localhost:8080/"
        },
        "id": "Bk5Ly_7YXJQm",
        "outputId": "a9bb7fc5-19ba-4ec6-f641-6d212e9c14ee"
      },
      "execution_count": 77,
      "outputs": [
        {
          "output_type": "execute_result",
          "data": {
            "text/plain": [
              "0       6\n",
              "1       6\n",
              "2       6\n",
              "3       6\n",
              "4       2\n",
              "       ..\n",
              "9995    3\n",
              "9996    4\n",
              "9997    5\n",
              "9998    2\n",
              "9999    3\n",
              "Length: 10000, dtype: int64"
            ]
          },
          "metadata": {},
          "execution_count": 77
        }
      ]
    },
    {
      "cell_type": "code",
      "source": [
        "s.value_counts()"
      ],
      "metadata": {
        "colab": {
          "base_uri": "https://localhost:8080/"
        },
        "id": "q_Ibi0VfXRD_",
        "outputId": "cefede6a-871b-486d-aa10-2933b45ccda1"
      },
      "execution_count": 78,
      "outputs": [
        {
          "output_type": "execute_result",
          "data": {
            "text/plain": [
              "4    1742\n",
              "2    1707\n",
              "3    1659\n",
              "5    1652\n",
              "6    1623\n",
              "1    1617\n",
              "dtype: int64"
            ]
          },
          "metadata": {},
          "execution_count": 78
        }
      ]
    },
    {
      "cell_type": "code",
      "source": [
        "temp=s.value_counts()/pd.Series(L).value_counts().sum()\n",
        "temp"
      ],
      "metadata": {
        "colab": {
          "base_uri": "https://localhost:8080/"
        },
        "id": "uFWYqQMWXYlp",
        "outputId": "6b42e1bb-687c-4297-bdaf-763c4d9783b4"
      },
      "execution_count": 79,
      "outputs": [
        {
          "output_type": "execute_result",
          "data": {
            "text/plain": [
              "4    0.1742\n",
              "2    0.1707\n",
              "3    0.1659\n",
              "5    0.1652\n",
              "6    0.1623\n",
              "1    0.1617\n",
              "dtype: float64"
            ]
          },
          "metadata": {},
          "execution_count": 79
        }
      ]
    },
    {
      "cell_type": "code",
      "source": [
        "d=temp.sort_index()\n",
        "d"
      ],
      "metadata": {
        "colab": {
          "base_uri": "https://localhost:8080/"
        },
        "id": "UZACyA5AXkYR",
        "outputId": "420fb73d-8e85-4052-a915-5a79714924e1"
      },
      "execution_count": 80,
      "outputs": [
        {
          "output_type": "execute_result",
          "data": {
            "text/plain": [
              "1    0.1617\n",
              "2    0.1707\n",
              "3    0.1659\n",
              "4    0.1742\n",
              "5    0.1652\n",
              "6    0.1623\n",
              "dtype: float64"
            ]
          },
          "metadata": {},
          "execution_count": 80
        }
      ]
    },
    {
      "cell_type": "code",
      "source": [
        "d.plot(kind='bar')"
      ],
      "metadata": {
        "colab": {
          "base_uri": "https://localhost:8080/",
          "height": 442
        },
        "id": "_H-5CTlmYKIF",
        "outputId": "fcd69661-cb22-424e-8c22-120ec289cb6a"
      },
      "execution_count": 81,
      "outputs": [
        {
          "output_type": "execute_result",
          "data": {
            "text/plain": [
              "<Axes: >"
            ]
          },
          "metadata": {},
          "execution_count": 81
        },
        {
          "output_type": "display_data",
          "data": {
            "text/plain": [
              "<Figure size 640x480 with 1 Axes>"
            ],
            "image/png": "[encoded data removed]"
          },
          "metadata": {}
        }
      ]
    },
    {
      "cell_type": "code",
      "source": [
        "# theoritical it should be exact 1/6 but it is a random variable so roughly 1/6\n",
        "#this is descrete prob. dens. func"
      ],
      "metadata": {
        "id": "DGsRtlnjYdW4"
      },
      "execution_count": 82,
      "outputs": []
    },
    {
      "cell_type": "code",
      "source": [
        "L = []\n",
        "for i in range(10000):\n",
        "  a = random.randint(1,6)\n",
        "  b = random.randint(1,6)\n",
        "  L.append(a+b)\n",
        "  len(L)"
      ],
      "metadata": {
        "id": "ah4Jw5L4ZuWb"
      },
      "execution_count": 83,
      "outputs": []
    },
    {
      "cell_type": "code",
      "source": [
        "L[:5]"
      ],
      "metadata": {
        "colab": {
          "base_uri": "https://localhost:8080/"
        },
        "id": "TXvqAliGZzTi",
        "outputId": "d08b29f8-5d73-4a0a-d450-43edfb3e4eb2"
      },
      "execution_count": 84,
      "outputs": [
        {
          "output_type": "execute_result",
          "data": {
            "text/plain": [
              "[6, 5, 9, 6, 6]"
            ]
          },
          "metadata": {},
          "execution_count": 84
        }
      ]
    },
    {
      "cell_type": "code",
      "source": [
        "s=(pd.Series(L).value_counts()/pd.Series(L).value_counts().sum()).sort_index()\n",
        "s"
      ],
      "metadata": {
        "colab": {
          "base_uri": "https://localhost:8080/"
        },
        "id": "jwnRIdkNZ58Y",
        "outputId": "ff97e370-0b9d-4b83-dcc9-d37c5d42e29c"
      },
      "execution_count": 88,
      "outputs": [
        {
          "output_type": "execute_result",
          "data": {
            "text/plain": [
              "2     0.0285\n",
              "3     0.0547\n",
              "4     0.0812\n",
              "5     0.1099\n",
              "6     0.1419\n",
              "7     0.1677\n",
              "8     0.1372\n",
              "9     0.1096\n",
              "10    0.0846\n",
              "11    0.0564\n",
              "12    0.0283\n",
              "dtype: float64"
            ]
          },
          "metadata": {},
          "execution_count": 88
        }
      ]
    },
    {
      "cell_type": "code",
      "source": [
        "s.plot(kind='bar')"
      ],
      "metadata": {
        "colab": {
          "base_uri": "https://localhost:8080/",
          "height": 451
        },
        "id": "zkeOL4PlaCZR",
        "outputId": "5ebc6af2-04a7-49ad-b654-c2856de2e9ac"
      },
      "execution_count": 89,
      "outputs": [
        {
          "output_type": "execute_result",
          "data": {
            "text/plain": [
              "<Axes: >"
            ]
          },
          "metadata": {},
          "execution_count": 89
        },
        {
          "output_type": "display_data",
          "data": {
            "text/plain": [
              "<Figure size 640x480 with 1 Axes>"
            ],
            "image/png": "[encoded data removed]"
          },
          "metadata": {}
        }
      ]
    },
    {
      "cell_type": "code",
      "source": [
        "#without sorting\n",
        "(pd.Series(L).value_counts()/pd.Series(L).value_counts().sum()).plot(kind='bar')"
      ],
      "metadata": {
        "colab": {
          "base_uri": "https://localhost:8080/",
          "height": 451
        },
        "id": "kUnELFoPaJI8",
        "outputId": "fb385b4d-6d15-49de-e6f6-02837d4e9669"
      },
      "execution_count": 91,
      "outputs": [
        {
          "output_type": "execute_result",
          "data": {
            "text/plain": [
              "<Axes: >"
            ]
          },
          "metadata": {},
          "execution_count": 91
        },
        {
          "output_type": "display_data",
          "data": {
            "text/plain": [
              "<Figure size 640x480 with 1 Axes>"
            ],
            "image/png": "[encoded data removed]"
          },
          "metadata": {}
        }
      ]
    },
    {
      "cell_type": "code",
      "source": [
        "import numpy as np\n",
        "np.cumsum(s)"
      ],
      "metadata": {
        "colab": {
          "base_uri": "https://localhost:8080/"
        },
        "id": "tA7pctgTa2Lg",
        "outputId": "731b8885-4869-4d1a-bd0f-b25b2a2d6e35"
      },
      "execution_count": 92,
      "outputs": [
        {
          "output_type": "execute_result",
          "data": {
            "text/plain": [
              "2     0.0285\n",
              "3     0.0832\n",
              "4     0.1644\n",
              "5     0.2743\n",
              "6     0.4162\n",
              "7     0.5839\n",
              "8     0.7211\n",
              "9     0.8307\n",
              "10    0.9153\n",
              "11    0.9717\n",
              "12    1.0000\n",
              "dtype: float64"
            ]
          },
          "metadata": {},
          "execution_count": 92
        }
      ]
    },
    {
      "cell_type": "code",
      "source": [
        "#Cumulative distribution function\n",
        "np.cumsum(s).plot(kind='bar')"
      ],
      "metadata": {
        "colab": {
          "base_uri": "https://localhost:8080/",
          "height": 451
        },
        "id": "OmKLyOURdRv-",
        "outputId": "068560e5-c24c-4986-ac5a-84eb3b85744c"
      },
      "execution_count": 93,
      "outputs": [
        {
          "output_type": "execute_result",
          "data": {
            "text/plain": [
              "<Axes: >"
            ]
          },
          "metadata": {},
          "execution_count": 93
        },
        {
          "output_type": "display_data",
          "data": {
            "text/plain": [
              "<Figure size 640x480 with 1 Axes>"
            ],
            "image/png": "[encoded data removed]"
          },
          "metadata": {}
        }
      ]
    },
    {
      "cell_type": "code",
      "source": [],
      "metadata": {
        "id": "mw0bOmC_dbHy"
      },
      "execution_count": null,
      "outputs": []
    }
  ]
}