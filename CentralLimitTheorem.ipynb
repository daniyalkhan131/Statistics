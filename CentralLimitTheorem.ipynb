{
  "nbformat": 4,
  "nbformat_minor": 0,
  "metadata": {
    "colab": {
      "provenance": []
    },
    "kernelspec": {
      "name": "python3",
      "display_name": "Python 3"
    },
    "language_info": {
      "name": "python"
    }
  },
  "cells": [
    {
      "cell_type": "code",
      "execution_count": 30,
      "metadata": {
        "id": "6Netvh4D74XM"
      },
      "outputs": [],
      "source": [
        "import numpy as np\n",
        "import pandas as pd"
      ]
    },
    {
      "cell_type": "code",
      "source": [
        "df=pd.read_csv('IPL_balls.csv')"
      ],
      "metadata": {
        "id": "0aMgG0vM8W7K"
      },
      "execution_count": 31,
      "outputs": []
    },
    {
      "cell_type": "code",
      "source": [
        "df.sample(5)"
      ],
      "metadata": {
        "colab": {
          "base_uri": "https://localhost:8080/",
          "height": 357
        },
        "id": "PDeLZaTY8bMe",
        "outputId": "b23794f9-a0b3-494b-f7f1-9942d868ca22"
      },
      "execution_count": 32,
      "outputs": [
        {
          "output_type": "execute_result",
          "data": {
            "text/plain": [
              "             id  inning  over  ball      batsman  non_striker          bowler  \\\n",
              "7449     336013       2    18     1    IK Pathan    PP Chawla       JA Morkel   \n",
              "134886   981007       1    15     3       N Rana   KA Pollard     DS Kulkarni   \n",
              "17873    392202       1     9     2  S Badrinath     SK Raina        SK Warne   \n",
              "130908   980971       2    14     5      KK Nair  SW Billings       MM Sharma   \n",
              "162018  1136610       2     3     4     CH Gayle     KL Rahul  MJ McClenaghan   \n",
              "\n",
              "        batsman_runs  extra_runs  total_runs  non_boundary  is_wicket  \\\n",
              "7449               6           0           6             0          0   \n",
              "134886             2           0           2             0          0   \n",
              "17873              1           0           1             0          0   \n",
              "130908             2           0           2             0          0   \n",
              "162018             0           0           0             0          0   \n",
              "\n",
              "       dismissal_kind player_dismissed fielder extras_type  \\\n",
              "7449              NaN              NaN     NaN         NaN   \n",
              "134886            NaN              NaN     NaN         NaN   \n",
              "17873             NaN              NaN     NaN         NaN   \n",
              "130908            NaN              NaN     NaN         NaN   \n",
              "162018            NaN              NaN     NaN         NaN   \n",
              "\n",
              "               batting_team         bowling_team  \n",
              "7449        Kings XI Punjab  Chennai Super Kings  \n",
              "134886       Mumbai Indians        Gujarat Lions  \n",
              "17873   Chennai Super Kings     Rajasthan Royals  \n",
              "130908     Delhi Daredevils      Kings XI Punjab  \n",
              "162018      Kings XI Punjab       Mumbai Indians  "
            ],
            "text/html": [
              "\n",
              "  <div id=\"df-88d49bb4-9310-4914-b9b1-deeea8a609ff\">\n",
              "    <div class=\"colab-df-container\">\n",
              "      <div>\n",
              "<style scoped>\n",
              "    .dataframe tbody tr th:only-of-type {\n",
              "        vertical-align: middle;\n",
              "    }\n",
              "\n",
              "    .dataframe tbody tr th {\n",
              "        vertical-align: top;\n",
              "    }\n",
              "\n",
              "    .dataframe thead th {\n",
              "        text-align: right;\n",
              "    }\n",
              "</style>\n",
              "<table border=\"1\" class=\"dataframe\">\n",
              "  <thead>\n",
              "    <tr style=\"text-align: right;\">\n",
              "      <th></th>\n",
              "      <th>id</th>\n",
              "      <th>inning</th>\n",
              "      <th>over</th>\n",
              "      <th>ball</th>\n",
              "      <th>batsman</th>\n",
              "      <th>non_striker</th>\n",
              "      <th>bowler</th>\n",
              "      <th>batsman_runs</th>\n",
              "      <th>extra_runs</th>\n",
              "      <th>total_runs</th>\n",
              "      <th>non_boundary</th>\n",
              "      <th>is_wicket</th>\n",
              "      <th>dismissal_kind</th>\n",
              "      <th>player_dismissed</th>\n",
              "      <th>fielder</th>\n",
              "      <th>extras_type</th>\n",
              "      <th>batting_team</th>\n",
              "      <th>bowling_team</th>\n",
              "    </tr>\n",
              "  </thead>\n",
              "  <tbody>\n",
              "    <tr>\n",
              "      <th>7449</th>\n",
              "      <td>336013</td>\n",
              "      <td>2</td>\n",
              "      <td>18</td>\n",
              "      <td>1</td>\n",
              "      <td>IK Pathan</td>\n",
              "      <td>PP Chawla</td>\n",
              "      <td>JA Morkel</td>\n",
              "      <td>6</td>\n",
              "      <td>0</td>\n",
              "      <td>6</td>\n",
              "      <td>0</td>\n",
              "      <td>0</td>\n",
              "      <td>NaN</td>\n",
              "      <td>NaN</td>\n",
              "      <td>NaN</td>\n",
              "      <td>NaN</td>\n",
              "      <td>Kings XI Punjab</td>\n",
              "      <td>Chennai Super Kings</td>\n",
              "    </tr>\n",
              "    <tr>\n",
              "      <th>134886</th>\n",
              "      <td>981007</td>\n",
              "      <td>1</td>\n",
              "      <td>15</td>\n",
              "      <td>3</td>\n",
              "      <td>N Rana</td>\n",
              "      <td>KA Pollard</td>\n",
              "      <td>DS Kulkarni</td>\n",
              "      <td>2</td>\n",
              "      <td>0</td>\n",
              "      <td>2</td>\n",
              "      <td>0</td>\n",
              "      <td>0</td>\n",
              "      <td>NaN</td>\n",
              "      <td>NaN</td>\n",
              "      <td>NaN</td>\n",
              "      <td>NaN</td>\n",
              "      <td>Mumbai Indians</td>\n",
              "      <td>Gujarat Lions</td>\n",
              "    </tr>\n",
              "    <tr>\n",
              "      <th>17873</th>\n",
              "      <td>392202</td>\n",
              "      <td>1</td>\n",
              "      <td>9</td>\n",
              "      <td>2</td>\n",
              "      <td>S Badrinath</td>\n",
              "      <td>SK Raina</td>\n",
              "      <td>SK Warne</td>\n",
              "      <td>1</td>\n",
              "      <td>0</td>\n",
              "      <td>1</td>\n",
              "      <td>0</td>\n",
              "      <td>0</td>\n",
              "      <td>NaN</td>\n",
              "      <td>NaN</td>\n",
              "      <td>NaN</td>\n",
              "      <td>NaN</td>\n",
              "      <td>Chennai Super Kings</td>\n",
              "      <td>Rajasthan Royals</td>\n",
              "    </tr>\n",
              "    <tr>\n",
              "      <th>130908</th>\n",
              "      <td>980971</td>\n",
              "      <td>2</td>\n",
              "      <td>14</td>\n",
              "      <td>5</td>\n",
              "      <td>KK Nair</td>\n",
              "      <td>SW Billings</td>\n",
              "      <td>MM Sharma</td>\n",
              "      <td>2</td>\n",
              "      <td>0</td>\n",
              "      <td>2</td>\n",
              "      <td>0</td>\n",
              "      <td>0</td>\n",
              "      <td>NaN</td>\n",
              "      <td>NaN</td>\n",
              "      <td>NaN</td>\n",
              "      <td>NaN</td>\n",
              "      <td>Delhi Daredevils</td>\n",
              "      <td>Kings XI Punjab</td>\n",
              "    </tr>\n",
              "    <tr>\n",
              "      <th>162018</th>\n",
              "      <td>1136610</td>\n",
              "      <td>2</td>\n",
              "      <td>3</td>\n",
              "      <td>4</td>\n",
              "      <td>CH Gayle</td>\n",
              "      <td>KL Rahul</td>\n",
              "      <td>MJ McClenaghan</td>\n",
              "      <td>0</td>\n",
              "      <td>0</td>\n",
              "      <td>0</td>\n",
              "      <td>0</td>\n",
              "      <td>0</td>\n",
              "      <td>NaN</td>\n",
              "      <td>NaN</td>\n",
              "      <td>NaN</td>\n",
              "      <td>NaN</td>\n",
              "      <td>Kings XI Punjab</td>\n",
              "      <td>Mumbai Indians</td>\n",
              "    </tr>\n",
              "  </tbody>\n",
              "</table>\n",
              "</div>\n",
              "      <button class=\"colab-df-convert\" onclick=\"convertToInteractive('df-88d49bb4-9310-4914-b9b1-deeea8a609ff')\"\n",
              "              title=\"Convert this dataframe to an interactive table.\"\n",
              "              style=\"display:none;\">\n",
              "        \n",
              "  <svg xmlns=\"http://www.w3.org/2000/svg\" height=\"24px\"viewBox=\"0 0 24 24\"\n",
              "       width=\"24px\">\n",
              "    <path d=\"M0 0h24v24H0V0z\" fill=\"none\"/>\n",
              "    <path d=\"M18.56 5.44l.94 2.06.94-2.06 2.06-.94-2.06-.94-.94-2.06-.94 2.06-2.06.94zm-11 1L8.5 8.5l.94-2.06 2.06-.94-2.06-.94L8.5 2.5l-.94 2.06-2.06.94zm10 10l.94 2.06.94-2.06 2.06-.94-2.06-.94-.94-2.06-.94 2.06-2.06.94z\"/><path d=\"M17.41 7.96l-1.37-1.37c-.4-.4-.92-.59-1.43-.59-.52 0-1.04.2-1.43.59L10.3 9.45l-7.72 7.72c-.78.78-.78 2.05 0 2.83L4 21.41c.39.39.9.59 1.41.59.51 0 1.02-.2 1.41-.59l7.78-7.78 2.81-2.81c.8-.78.8-2.07 0-2.86zM5.41 20L4 18.59l7.72-7.72 1.47 1.35L5.41 20z\"/>\n",
              "  </svg>\n",
              "      </button>\n",
              "      \n",
              "  <style>\n",
              "    .colab-df-container {\n",
              "      display:flex;\n",
              "      flex-wrap:wrap;\n",
              "      gap: 12px;\n",
              "    }\n",
              "\n",
              "    .colab-df-convert {\n",
              "      background-color: #E8F0FE;\n",
              "      border: none;\n",
              "      border-radius: 50%;\n",
              "      cursor: pointer;\n",
              "      display: none;\n",
              "      fill: #1967D2;\n",
              "      height: 32px;\n",
              "      padding: 0 0 0 0;\n",
              "      width: 32px;\n",
              "    }\n",
              "\n",
              "    .colab-df-convert:hover {\n",
              "      background-color: #E2EBFA;\n",
              "      box-shadow: 0px 1px 2px rgba(60, 64, 67, 0.3), 0px 1px 3px 1px rgba(60, 64, 67, 0.15);\n",
              "      fill: #174EA6;\n",
              "    }\n",
              "\n",
              "    [theme=dark] .colab-df-convert {\n",
              "      background-color: #3B4455;\n",
              "      fill: #D2E3FC;\n",
              "    }\n",
              "\n",
              "    [theme=dark] .colab-df-convert:hover {\n",
              "      background-color: #434B5C;\n",
              "      box-shadow: 0px 1px 3px 1px rgba(0, 0, 0, 0.15);\n",
              "      filter: drop-shadow(0px 1px 2px rgba(0, 0, 0, 0.3));\n",
              "      fill: #FFFFFF;\n",
              "    }\n",
              "  </style>\n",
              "\n",
              "      <script>\n",
              "        const buttonEl =\n",
              "          document.querySelector('#df-88d49bb4-9310-4914-b9b1-deeea8a609ff button.colab-df-convert');\n",
              "        buttonEl.style.display =\n",
              "          google.colab.kernel.accessAllowed ? 'block' : 'none';\n",
              "\n",
              "        async function convertToInteractive(key) {\n",
              "          const element = document.querySelector('#df-88d49bb4-9310-4914-b9b1-deeea8a609ff');\n",
              "          const dataTable =\n",
              "            await google.colab.kernel.invokeFunction('convertToInteractive',\n",
              "                                                     [key], {});\n",
              "          if (!dataTable) return;\n",
              "\n",
              "          const docLinkHtml = 'Like what you see? Visit the ' +\n",
              "            '<a target=\"_blank\" href=https://colab.research.google.com/notebooks/data_table.ipynb>data table notebook</a>'\n",
              "            + ' to learn more about interactive tables.';\n",
              "          element.innerHTML = '';\n",
              "          dataTable['output_type'] = 'display_data';\n",
              "          await google.colab.output.renderOutput(dataTable, element);\n",
              "          const docLink = document.createElement('div');\n",
              "          docLink.innerHTML = docLinkHtml;\n",
              "          element.appendChild(docLink);\n",
              "        }\n",
              "      </script>\n",
              "    </div>\n",
              "  </div>\n",
              "  "
            ]
          },
          "metadata": {},
          "execution_count": 32
        }
      ]
    },
    {
      "cell_type": "code",
      "source": [
        "runs=df.groupby('batsman').sum()['batsman_runs'].values"
      ],
      "metadata": {
        "colab": {
          "base_uri": "https://localhost:8080/"
        },
        "id": "xmnSZoh68cQi",
        "outputId": "95d2f1a4-3739-440b-ad6a-41df2cff7f56"
      },
      "execution_count": 33,
      "outputs": [
        {
          "output_type": "stream",
          "name": "stderr",
          "text": [
            "<ipython-input-33-dc4cc4db1a88>:1: FutureWarning: The default value of numeric_only in DataFrameGroupBy.sum is deprecated. In a future version, numeric_only will default to False. Either specify numeric_only or select only columns which should be valid for the function.\n",
            "  runs=df.groupby('batsman').sum()['batsman_runs'].values\n"
          ]
        }
      ]
    },
    {
      "cell_type": "code",
      "source": [
        "runs"
      ],
      "metadata": {
        "colab": {
          "base_uri": "https://localhost:8080/"
        },
        "id": "qTTt2di3-45u",
        "outputId": "3d6a979c-6347-4124-ba0b-55218a68dcfe"
      },
      "execution_count": 34,
      "outputs": [
        {
          "output_type": "execute_result",
          "data": {
            "text/plain": [
              "array([ 280,    4,   53,   25,    4,   62,   35,  362,   34,   19,   41,\n",
              "          7,    2,  974,    4,    5,   69,   12,  217,    9,  179,   42,\n",
              "         26,  123, 4849,  120, 2069,   20,  181,  148,   79,  724,   90,\n",
              "       1517,    7,   10,   49, 2005,    3,   91,  401,  672, 3933,   36,\n",
              "          7,   34,   87,  339,   12,  913,   15,   26,  194,   49,   32,\n",
              "       3659,   39,  111,    0,  143,   63,   87,    7,   36,    0,    4,\n",
              "        388,   76,  280,  183,    5,  124,    5,   35,    6,  920,    3,\n",
              "       2880,  125,   10,  238,    1,   18, 1400,  193,   23,   40,   32,\n",
              "        187,   15,  177,    0,  303,  205, 1280,  390, 4772,  551,  538,\n",
              "         98,   32,    8,   16,    8,  954,  169,  181,   63,    4,   10,\n",
              "          3,  473,   33,  127,   10, 1850, 5254,   12,  304,  375,   21,\n",
              "        170, 1490,  111,  625, 1322,   92,    1,   39,  295,  115,   78,\n",
              "        121,    6,   11,    4,    1, 1802,   19,    0,   13, 2385,  104,\n",
              "         18,  446,   13,  167,  430, 1272,   24,   14, 2302,    4,  183,\n",
              "       4217,   22,  739,    3,    4,  284,  663, 1505,   15,  511,    2,\n",
              "         66,    1,  886, 1349,  577,  128,  829,   18,   20,   20,    7,\n",
              "         55,   15,    0, 1139,   76,    7,   33,   88, 1211,   23,  409,\n",
              "         54,   29,   10,    6,  974,  195, 1714,  604,   64,  106,   61,\n",
              "          3,  327, 2427,   40,  179,   18,    0,   15,  790,   26,  104,\n",
              "       2029,  527,    8,  417,   78,    8,   36,  218,  186,  125,   12,\n",
              "       3023,   10,   51,   24, 1687, 3823, 1000,   13,    0,  116, 1480,\n",
              "         22, 2647, 1141,   18,    5,    2, 1001, 1619,  317,   36,  128,\n",
              "          3,   12,    4,   57,    0,   36,   34,   81,  302,    1,   44,\n",
              "        106, 1079,   40,  405, 1017,   70,    8,  259,  113,   73,  514,\n",
              "         27,  126,   20,   11,    3,   55, 2619, 1012,    1, 1690,   24,\n",
              "         96,    1,  969,  125,  237,   14, 1977,  177,  167,   98,  270,\n",
              "        278,   85,   32,   87, 3268, 1695, 1107,  309,   39,  122,  161,\n",
              "        167,  825,  225,  798, 4632,   99,   22,  394, 1659,    2,  117,\n",
              "          2,    3,   64,  146,   56,   46,   11,    1,   33,  521, 1437,\n",
              "        140,   29,    0,   20,    1,   26,  422,   77,   31, 1554,  121,\n",
              "        506,    5,    8,  127,    7,  340,  365,    1,   19,   19,   31,\n",
              "       2848,  164,  505,  203,  223,   24,  133,    1,  584,   16,  826,\n",
              "         92,    6,   18,    7,   17, 1959,  412,  342,   19,  153, 2174,\n",
              "        159,    3,  246,   51,  270,   66,   19,  366,  310, 2159,  988,\n",
              "         17,  204,   83,  159,    2, 5230,  117,   32,  103,    7,   77,\n",
              "        326,   52,    0, 2079,   67,   20,   53,   73,  531,    2,    4,\n",
              "         91,   50, 4607,  139,    5,    7,  136,   59,   13, 1441,   25,\n",
              "       5197,  169,  164,   12,    0,    0,    0,   39,   37,   91,    2,\n",
              "        368,   34,   31,    3,  145,   15,  423, 2024,   49,   28,    6,\n",
              "        131,    2, 1349,   99,   15,    1, 2477,   73,    5, 5368,   42,\n",
              "        198,   88,  281,    9,  241,  147,   10,  441,   48,  275,  196,\n",
              "        293,   38,  892, 2333, 2334, 3874,    0, 2200,    6, 1379,  768,\n",
              "        880, 2584,  334,   23,  137,  193,   44,    1,   81,  746,   23,\n",
              "          5,    1,    2,   52,  939,   36,    0,   43,   12,   18,   11,\n",
              "         11,    3,   31,   12,   12,   10,  115,  106,  676, 1153,  205,\n",
              "          8,   75,    8,   21,    0,    7,  300,  127,  122,   39, 5878,\n",
              "          0, 2728,  654,   29,   50,    4,    7,    2,  282,   15,   19,\n",
              "        130,   56,   63, 1979,   81,  186,   10,   19,  285,    0,  985,\n",
              "          0,   40, 3204,   22,  192,   47,    3, 2750,  117])"
            ]
          },
          "metadata": {},
          "execution_count": 34
        }
      ]
    },
    {
      "cell_type": "code",
      "source": [
        "import seaborn as sns"
      ],
      "metadata": {
        "id": "YPmuBmiY-5vC"
      },
      "execution_count": 35,
      "outputs": []
    },
    {
      "cell_type": "code",
      "source": [
        "sns.distplot(runs)"
      ],
      "metadata": {
        "colab": {
          "base_uri": "https://localhost:8080/",
          "height": 638
        },
        "id": "oKKzq64i_Wwz",
        "outputId": "28051d23-2fb7-4238-c398-11a340e00280"
      },
      "execution_count": 36,
      "outputs": [
        {
          "output_type": "stream",
          "name": "stderr",
          "text": [
            "<ipython-input-36-e77e4904bc40>:1: UserWarning: \n",
            "\n",
            "`distplot` is a deprecated function and will be removed in seaborn v0.14.0.\n",
            "\n",
            "Please adapt your code to use either `displot` (a figure-level function with\n",
            "similar flexibility) or `histplot` (an axes-level function for histograms).\n",
            "\n",
            "For a guide to updating your code to use the new functions, please see\n",
            "https://gist.github.com/mwaskom/de44147ed2974457ad6372750bbe5751\n",
            "\n",
            "  sns.distplot(runs)\n"
          ]
        },
        {
          "output_type": "execute_result",
          "data": {
            "text/plain": [
              "<Axes: ylabel='Density'>"
            ]
          },
          "metadata": {},
          "execution_count": 36
        },
        {
          "output_type": "display_data",
          "data": {
            "text/plain": [
              "<Figure size 640x480 with 1 Axes>"
            ],
            "image/png": "[encoded data removed]"
          },
          "metadata": {}
        }
      ]
    },
    {
      "cell_type": "code",
      "source": [
        "#it is not normal dist curve"
      ],
      "metadata": {
        "id": "CzGtdPdC_Yu5"
      },
      "execution_count": 37,
      "outputs": []
    },
    {
      "cell_type": "code",
      "source": [
        "#we do 1000 times the sampling taking 50 samples randomly everytime"
      ],
      "metadata": {
        "id": "NkLN88ek_nTs"
      },
      "execution_count": 38,
      "outputs": []
    },
    {
      "cell_type": "code",
      "source": [
        "n=50\n",
        "m=1000\n",
        "new=list()\n",
        "for i in range(m):\n",
        "  x=np.random.choice(runs,size=n)\n",
        "  new.append(x.mean())"
      ],
      "metadata": {
        "id": "MeKEbqO7_wSY"
      },
      "execution_count": 39,
      "outputs": []
    },
    {
      "cell_type": "code",
      "source": [
        "new=np.array(new)\n",
        "len(new)"
      ],
      "metadata": {
        "colab": {
          "base_uri": "https://localhost:8080/"
        },
        "id": "AChYpBffAQY0",
        "outputId": "8ece82ba-a2dc-4d1c-9a23-2d011163ff10"
      },
      "execution_count": 40,
      "outputs": [
        {
          "output_type": "execute_result",
          "data": {
            "text/plain": [
              "1000"
            ]
          },
          "metadata": {},
          "execution_count": 40
        }
      ]
    },
    {
      "cell_type": "code",
      "source": [
        "sns.distplot(new)"
      ],
      "metadata": {
        "colab": {
          "base_uri": "https://localhost:8080/",
          "height": 638
        },
        "id": "wMjWsOsYAS0d",
        "outputId": "89bb9e3a-6b78-4dd4-9ca2-dae4071e2fef"
      },
      "execution_count": 41,
      "outputs": [
        {
          "output_type": "stream",
          "name": "stderr",
          "text": [
            "<ipython-input-41-0648722b2eae>:1: UserWarning: \n",
            "\n",
            "`distplot` is a deprecated function and will be removed in seaborn v0.14.0.\n",
            "\n",
            "Please adapt your code to use either `displot` (a figure-level function with\n",
            "similar flexibility) or `histplot` (an axes-level function for histograms).\n",
            "\n",
            "For a guide to updating your code to use the new functions, please see\n",
            "https://gist.github.com/mwaskom/de44147ed2974457ad6372750bbe5751\n",
            "\n",
            "  sns.distplot(new)\n"
          ]
        },
        {
          "output_type": "execute_result",
          "data": {
            "text/plain": [
              "<Axes: ylabel='Density'>"
            ]
          },
          "metadata": {},
          "execution_count": 41
        },
        {
          "output_type": "display_data",
          "data": {
            "text/plain": [
              "<Figure size 640x480 with 1 Axes>"
            ],
            "image/png": "[encoded data removed]"
          },
          "metadata": {}
        }
      ]
    },
    {
      "cell_type": "code",
      "source": [
        "print(runs.mean())\n",
        "print(new.mean())"
      ],
      "metadata": {
        "colab": {
          "base_uri": "https://localhost:8080/"
        },
        "id": "_F4zKsl3AY56",
        "outputId": "2d7bf5de-439d-4e68-9fdf-28236a71a044"
      },
      "execution_count": 42,
      "outputs": [
        {
          "output_type": "stream",
          "name": "stdout",
          "text": [
            "446.8249534450652\n",
            "442.76009999999997\n"
          ]
        }
      ]
    },
    {
      "cell_type": "code",
      "source": [
        "print(runs.std()/np.sqrt(50))\n",
        "print(new.std())"
      ],
      "metadata": {
        "colab": {
          "base_uri": "https://localhost:8080/"
        },
        "id": "LXhHA1z1Al9M",
        "outputId": "38562358-8a1d-48a3-f15c-c9dc552926cc"
      },
      "execution_count": 43,
      "outputs": [
        {
          "output_type": "stream",
          "name": "stdout",
          "text": [
            "130.80010528894329\n",
            "129.41152914477905\n"
          ]
        }
      ]
    },
    {
      "cell_type": "code",
      "source": [
        "print(runs.var()/50)\n",
        "print(new.var())"
      ],
      "metadata": {
        "colab": {
          "base_uri": "https://localhost:8080/"
        },
        "id": "-jKPVDEnAuZw",
        "outputId": "4c5c95ef-1747-418a-c083-879efb49388d"
      },
      "execution_count": 44,
      "outputs": [
        {
          "output_type": "stream",
          "name": "stdout",
          "text": [
            "17108.667543598654\n",
            "16747.34387559\n"
          ]
        }
      ]
    },
    {
      "cell_type": "code",
      "source": [],
      "metadata": {
        "id": "oeb01_wNA8ZK"
      },
      "execution_count": 44,
      "outputs": []
    }
  ]
}